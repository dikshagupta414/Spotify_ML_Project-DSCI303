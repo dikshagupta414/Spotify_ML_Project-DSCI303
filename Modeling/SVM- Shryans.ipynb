{
 "cells": [
  {
   "cell_type": "code",
   "execution_count": 1,
   "metadata": {},
   "outputs": [],
   "source": [
    "#SVM\n",
    "import pandas as pd\n",
    "import numpy as np\n",
    "import sklearn as sklearn\n",
    "import seaborn as sns\n",
    "import matplotlib.pyplot as plt\n",
    "\n",
    "from sklearn import metrics\n",
    "from sklearn.cluster import KMeans\n",
    "from sklearn.decomposition import PCA\n",
    "from sklearn.preprocessing import scale\n",
    "from sklearn.manifold import TSNE\n",
    "import time\n",
    "\n",
    "from sklearn import svm\n",
    "from sklearn.metrics import confusion_matrix,classification_report\n",
    "from sklearn.model_selection import cross_val_score, GridSearchCV"
   ]
  },
  {
   "cell_type": "code",
   "execution_count": 2,
   "metadata": {},
   "outputs": [],
   "source": [
    "df = pd.read_csv('~/Box/DSCI303/archive/final_data.csv').truncate(after=100000)\n",
    "#SVM\n",
    "features = ['acousticness', 'energy', 'instrumentalness', 'loudness','speechiness','tempo']\n",
    "\n",
    "# y2_test=df_test['popularity_qcut']\n",
    "def doSVM(target_var):\n",
    "    print(\"========= Starting SVM for target variable: %s ==========\".format(target_var))\n",
    "    df_test = pd.read_csv('~/Box/DSCI303/archive/final_'+target_var+'_test_small.csv')\n",
    "    df_train = pd.read_csv('~/Box/DSCI303/archive/final_'+target_var+'_train_small.csv')\n",
    "\n",
    "    X_train = df_train[features]\n",
    "    y_train = df_train[target_var]\n",
    "    # y2_train = df_train['popularity_qcut']\n",
    "    X_test = df_test[features]\n",
    "    y_test = df_test[target_var]\n",
    "    params_grid = [{'kernel': ['rbf'], 'gamma': [1e-3, 1e-4], 'C': [1, 10, 100, 1000]},\n",
    "                    {'kernel': ['linear'], 'C': [1, 10, 100, 1000]}]\n",
    "    print(\"Creating Grid Search\")\n",
    "    svm_model = GridSearchCV(svm.SVC(), params_grid, cv=5)\n",
    "    print(\"Starting fitting SVM Models.\")\n",
    "    svm_model.fit(X_train, y_train)\n",
    "\n",
    "    # View the accuracy score\n",
    "    print('Best score for training data:', svm_model.best_score_,\"\\n\")\n",
    "\n",
    "    # View the best parameters for the model found using grid search\n",
    "    print('Best C:',svm_model.best_estimator_.C,\"\\n\")\n",
    "    print('Best Kernel:',svm_model.best_estimator_.kernel,\"\\n\")\n",
    "    print('Best Gamma:',svm_model.best_estimator_.gamma,\"\\n\")\n",
    "\n",
    "    final_model = svm_model.best_estimator_\n",
    "    Y_pred = final_model.predict(X_test)\n",
    "\n",
    "\n",
    "    # Making the Confusion Matrix\n",
    "    #print(pd.crosstab(Y_test_label, Y_pred_label, rownames=['Actual Activity'], colnames=['Predicted Activity']))\n",
    "    print(confusion_matrix(y_test,y_pred))\n",
    "    print(\"\\n\")\n",
    "    print(classification_report(y_test,y_pred))\n",
    "\n",
    "    print(\"Training set score for SVM: %f\" % final_model.score(X_train , y_train))\n",
    "    print(\"Testing  set score for SVM: %f\" % final_model.score(X_test  , y_test ))\n",
    "\n",
    "    svm_model.score"
   ]
  },
  {
   "cell_type": "code",
   "execution_count": null,
   "metadata": {},
   "outputs": [
    {
     "name": "stdout",
     "output_type": "stream",
     "text": [
      "========= Starting SVM for target variable: %s ==========\n",
      "Creating Grid Search\n",
      "Starting fitting SVM Models.\n"
     ]
    }
   ],
   "source": [
    "\n",
    "svm_model1 = doSVM('popularity_cut')\n",
    "print(f'Done with SVM 1')\n",
    "svm_model2 = doSVM('popularity_qcut')\n",
    "print(f'Done with SVM 2')\n",
    "svm_model3 = doSVM('year_bins')\n",
    "print(f'Done with SVM 3')\n",
    "#Create a svm Classifier\n",
    "# time_start = time.time()\n",
    "# clf = svm.SVC(kernel='precomputed') # Linear Kernel\n",
    "#\n",
    "# #Train the model using the training sets\n",
    "# clf.fit(X_train, y_train)\n",
    "#\n",
    "# #Predict the response for test dataset\n",
    "# y_pred = clf.predict(X_test)\n",
    "\n",
    "# Model Accuracy: how often is the classifier correct?\n",
    "# print(\"Accuracy:\",accuracy_score(y_test, y_pred))\n",
    "# print('SVM done! Time elapsed: {} seconds'.format(time.time()-time_start))\n"
   ]
  },
  {
   "cell_type": "code",
   "execution_count": null,
   "metadata": {},
   "outputs": [],
   "source": []
  }
 ],
 "metadata": {
  "kernelspec": {
   "display_name": "Python 3",
   "language": "python",
   "name": "python3"
  },
  "language_info": {
   "codemirror_mode": {
    "name": "ipython",
    "version": 3
   },
   "file_extension": ".py",
   "mimetype": "text/x-python",
   "name": "python",
   "nbconvert_exporter": "python",
   "pygments_lexer": "ipython3",
   "version": "3.8.3"
  }
 },
 "nbformat": 4,
 "nbformat_minor": 4
}
