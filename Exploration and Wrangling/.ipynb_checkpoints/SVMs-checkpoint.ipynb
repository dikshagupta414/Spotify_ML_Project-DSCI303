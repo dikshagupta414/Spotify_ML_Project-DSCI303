{
 "cells": [
  {
   "cell_type": "code",
   "execution_count": 2,
   "metadata": {},
   "outputs": [],
   "source": [
    "import pandas as pd\n",
    "import numpy as np\n",
    "import sklearn as sklearn\n",
    "import seaborn as sns\n",
    "import matplotlib.pyplot as plt\n",
    "import time\n",
    "\n",
    "from sklearn import metrics\n",
    "from sklearn.cluster import KMeans\n",
    "from sklearn.decomposition import PCA\n",
    "from sklearn.preprocessing import scale\n",
    "from sklearn.manifold import TSNE\n",
    "\n",
    "from sklearn import svm\n",
    "from sklearn import metrics #Import for accuracy calculation"
   ]
  },
  {
   "cell_type": "code",
   "execution_count": null,
   "metadata": {},
   "outputs": [],
   "source": [
    "df = pd.read_csv('~/Box/DSCI303/archive/final_data.csv')\n",
    "df_test = pd.read_csv('~/Box/DSCI303/archive/final_popularity_cut_test.csv')\n",
    "df_train = pd.read_csv('~/Box/DSCI303/archive/final_popularity_cut_train.csv')\n",
    "df_train.info()"
   ]
  },
  {
   "cell_type": "code",
   "execution_count": null,
   "metadata": {},
   "outputs": [
    {
     "name": "stdout",
     "output_type": "stream",
     "text": [
      "Explained variation per principal component: [0.34140473 0.15293857 0.1304407 ]\n",
      "Explained variation per principal component: [0.34375484 0.15097462 0.12720342]\n",
      "<class 'pandas.core.frame.DataFrame'>\n",
      "RangeIndex: 16991 entries, 0 to 16990\n",
      "Data columns (total 12 columns):\n",
      " #   Column            Non-Null Count  Dtype  \n",
      "---  ------            --------------  -----  \n",
      " 0   acousticness      16991 non-null  float64\n",
      " 1   danceability      16991 non-null  float64\n",
      " 2   energy            16991 non-null  float64\n",
      " 3   instrumentalness  16991 non-null  float64\n",
      " 4   liveness          16991 non-null  float64\n",
      " 5   loudness          16991 non-null  float64\n",
      " 6   speechiness       16991 non-null  float64\n",
      " 7   tempo             16991 non-null  float64\n",
      " 8   valence           16991 non-null  float64\n",
      " 9   year_bins         16991 non-null  int64  \n",
      " 10  popularity_cut    16991 non-null  int64  \n",
      " 11  popularity_qcut   16991 non-null  int64  \n",
      "dtypes: float64(9), int64(3)\n",
      "memory usage: 1.6 MB\n"
     ]
    }
   ],
   "source": [
    "#SVM \n",
    "features = ['acousticness', 'danceability', 'energy', 'instrumentalness',\n",
    "            'liveness', 'loudness','speechiness','tempo','valence']\n",
    "\n",
    "def doPCA(df, features):\n",
    "    df_kmeans = df[features]\n",
    "    pca = PCA(n_components = 3)\n",
    "    X = pca.fit_transform(df_kmeans)\n",
    "    print('Explained variation per principal component: {}'.format(pca.explained_variance_ratio_))\n",
    "\n",
    "    X_reduced = pd.DataFrame(X)\n",
    "    X_reduced['year_bins'] = df['year_bins']\n",
    "    X_reduced['popularity_cut'] = df['popularity_cut']\n",
    "    X_reduced['popularity_qcut'] = df['popularity_qcut']\n",
    "    \n",
    "    X_new = pca.inverse_transform(X)\n",
    "    X_new = pd.DataFrame(X_new, columns=features)\n",
    "    X_new['year_bins'] = df['year_bins']\n",
    "    X_new['popularity_cut'] = df['popularity_cut']\n",
    "    X_new['popularity_qcut'] = df['popularity_qcut']\n",
    "    return X_reduced, X_new\n",
    "\n",
    "# def doSVM(popularity_var, kernel='rbf', afterPCA=False):\n",
    "popularity_var='popularity_cut'\n",
    "kernel='rbf'\n",
    "afterPCA=True\n",
    "df_test = pd.read_csv('~/Box/DSCI303/archive/final_'+popularity_var+'_test.csv')\n",
    "df_train = pd.read_csv('~/Box/DSCI303/archive/final_'+popularity_var+'_train.csv')\n",
    "if afterPCA:\n",
    "    X_reduced, df_test = doPCA(df_test, features)\n",
    "    X_reduced, df_train = doPCA(df_train, features)\n",
    "    df_test.info()\n",
    "X_train = df_train[features]\n",
    "y_train = df_train[popularity_var]\n",
    "X_test = df_test[features]\n",
    "y_test = df_test[popularity_var]\n",
    "#Create a svm Classifier\n",
    "time_start = time.time()\n",
    "clf = svm.SVC(kernel=kernel) # Linear Kernel\n",
    "#Train the model using the training sets\n",
    "clf.fit(X_train, y_train)\n",
    "\n",
    "#Predict the response for test dataset\n",
    "y_pred = clf.predict(X_test)\n",
    "\n",
    "# Model Accuracy: how often is the classifier correct?\n",
    "print(\"Accuracy:\",metrics.accuracy_score(y_test, y_pred))\n",
    "print('SVM done! Time elapsed: {} seconds'.format(time.time()-time_start))\n",
    "#     return clf, y_pred\n",
    "\n",
    "# clf_rbf, y_pred_rbf = doSVM('popularity_cut', afterPCA=True)"
   ]
  },
  {
   "cell_type": "code",
   "execution_count": 1,
   "metadata": {},
   "outputs": [
    {
     "ename": "NameError",
     "evalue": "name 'doSVM' is not defined",
     "output_type": "error",
     "traceback": [
      "\u001b[0;31m---------------------------------------------------------------------------\u001b[0m",
      "\u001b[0;31mNameError\u001b[0m                                 Traceback (most recent call last)",
      "\u001b[0;32m<ipython-input-1-494034e4efc2>\u001b[0m in \u001b[0;36m<module>\u001b[0;34m\u001b[0m\n\u001b[0;32m----> 1\u001b[0;31m \u001b[0mclf_linear\u001b[0m\u001b[0;34m,\u001b[0m \u001b[0my_pred_linear\u001b[0m \u001b[0;34m=\u001b[0m \u001b[0mdoSVM\u001b[0m\u001b[0;34m(\u001b[0m\u001b[0;34m'popularity_cut'\u001b[0m\u001b[0;34m,\u001b[0m\u001b[0;34m'linear'\u001b[0m\u001b[0;34m,\u001b[0m \u001b[0mafterPCA\u001b[0m\u001b[0;34m=\u001b[0m\u001b[0;32mTrue\u001b[0m\u001b[0;34m)\u001b[0m\u001b[0;34m\u001b[0m\u001b[0;34m\u001b[0m\u001b[0m\n\u001b[0m\u001b[1;32m      2\u001b[0m \u001b[0;34m\u001b[0m\u001b[0m\n\u001b[1;32m      3\u001b[0m \u001b[0mconfusion_matrix\u001b[0m\u001b[0;34m(\u001b[0m\u001b[0my_\u001b[0m\u001b[0;34m)\u001b[0m\u001b[0;34m\u001b[0m\u001b[0;34m\u001b[0m\u001b[0m\n",
      "\u001b[0;31mNameError\u001b[0m: name 'doSVM' is not defined"
     ]
    }
   ],
   "source": [
    "clf_linear, y_pred_linear = doSVM('popularity_cut','linear', afterPCA=True)\n",
    "\n",
    "confusion_matrix(y_)"
   ]
  },
  {
   "cell_type": "code",
   "execution_count": null,
   "metadata": {},
   "outputs": [],
   "source": []
  }
 ],
 "metadata": {
  "kernelspec": {
   "display_name": "Python 3",
   "language": "python",
   "name": "python3"
  },
  "language_info": {
   "codemirror_mode": {
    "name": "ipython",
    "version": 3
   },
   "file_extension": ".py",
   "mimetype": "text/x-python",
   "name": "python",
   "nbconvert_exporter": "python",
   "pygments_lexer": "ipython3",
   "version": "3.8.3"
  }
 },
 "nbformat": 4,
 "nbformat_minor": 4
}
