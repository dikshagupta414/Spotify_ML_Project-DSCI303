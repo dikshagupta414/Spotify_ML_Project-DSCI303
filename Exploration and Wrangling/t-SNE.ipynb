{
 "cells": [
  {
   "cell_type": "code",
   "execution_count": 7,
   "metadata": {},
   "outputs": [],
   "source": [
    "import pandas as pd\n",
    "import numpy as np\n",
    "import sklearn as sklearn\n",
    "import seaborn as sns\n",
    "import matplotlib.pyplot as plt\n",
    "from sklearn.manifold import TSNE\n",
    "import time"
   ]
  },
  {
   "cell_type": "code",
   "execution_count": 11,
   "metadata": {},
   "outputs": [],
   "source": [
    "df = pd.read_csv('~/Box/DSCI303/archive/data.csv')\n",
    "# features = ['acousticness', 'energy', 'instrumentalness', 'loudness','speechiness','tempo']\n",
    "features = ['acousticness', 'danceability', 'energy', 'instrumentalness','liveness', 'loudness',\n",
    "                'speechiness','tempo','valence']"
   ]
  },
  {
   "cell_type": "code",
   "execution_count": 12,
   "metadata": {},
   "outputs": [],
   "source": [
    "def plot_tsne(perp, n_iter):\n",
    "    time_start = time.time()\n",
    "    tsne = TSNE(n_components=2, verbose=2, perplexity=perp, n_iter=n_iter)\n",
    "    tsne_results = tsne.fit_transform(df[features].values)\n",
    "    print('t-SNE done! Time elapsed: {} seconds'.format(time.time()-time_start))\n",
    "    df['tsne-2d-one'] = tsne_results[:,0]\n",
    "    df['tsne-2d-two'] = tsne_results[:,1]\n",
    "    plt.figure(figsize=(16,10))\n",
    "    sns.scatterplot(\n",
    "        x=\"tsne-2d-one\", y=\"tsne-2d-two\",\n",
    "        hue=\"year_bins\",\n",
    "        palette=sns.color_palette(\"hls\", 5),\n",
    "        data=df,\n",
    "        legend=\"full\",\n",
    "        alpha=0.3)\n",
    "    plt.savefig('./output/tSNE_'+str(perp)+'.png')"
   ]
  },
  {
   "cell_type": "code",
   "execution_count": null,
   "metadata": {},
   "outputs": [],
   "source": [
    "plot_tsne(10, 250)\n",
    "plot_tsne(50, 250)\n",
    "plot_tsne(100, 250)\n",
    "plot_tsne(500, 250)\n",
    "plot_tsne(1000, 250)\n",
    "#Images saved in output folder!"
   ]
  }
 ],
 "metadata": {
  "kernelspec": {
   "display_name": "Python 3",
   "language": "python",
   "name": "python3"
  },
  "language_info": {
   "codemirror_mode": {
    "name": "ipython",
    "version": 3
   },
   "file_extension": ".py",
   "mimetype": "text/x-python",
   "name": "python",
   "nbconvert_exporter": "python",
   "pygments_lexer": "ipython3",
   "version": "3.8.3"
  }
 },
 "nbformat": 4,
 "nbformat_minor": 4
}
