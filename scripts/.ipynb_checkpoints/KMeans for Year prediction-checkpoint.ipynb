{
 "cells": [
  {
   "cell_type": "code",
   "execution_count": 68,
   "metadata": {},
   "outputs": [],
   "source": [
    "import pandas as pd\n",
    "import numpy as np\n",
    "import sklearn as sklearn\n",
    "import seaborn as sns\n",
    "import matplotlib.pyplot as plt\n",
    "from mpl_toolkits.mplot3d import Axes3D\n",
    "\n",
    "from sklearn import metrics\n",
    "from sklearn.cluster import KMeans\n",
    "from sklearn.decomposition import PCA\n",
    "from sklearn.preprocessing import scale\n",
    "from sklearn.manifold import TSNE"
   ]
  },
  {
   "cell_type": "code",
   "execution_count": 39,
   "metadata": {},
   "outputs": [],
   "source": [
    "df = pd.read_csv('~/Box/DSCI303/archive/final_data.csv')"
   ]
  },
  {
   "cell_type": "code",
   "execution_count": 40,
   "metadata": {},
   "outputs": [
    {
     "data": {
      "text/html": [
       "<div>\n",
       "<style scoped>\n",
       "    .dataframe tbody tr th:only-of-type {\n",
       "        vertical-align: middle;\n",
       "    }\n",
       "\n",
       "    .dataframe tbody tr th {\n",
       "        vertical-align: top;\n",
       "    }\n",
       "\n",
       "    .dataframe thead th {\n",
       "        text-align: right;\n",
       "    }\n",
       "</style>\n",
       "<table border=\"1\" class=\"dataframe\">\n",
       "  <thead>\n",
       "    <tr style=\"text-align: right;\">\n",
       "      <th></th>\n",
       "      <th>Unnamed: 0</th>\n",
       "      <th>acousticness</th>\n",
       "      <th>artists</th>\n",
       "      <th>danceability</th>\n",
       "      <th>duration_ms</th>\n",
       "      <th>energy</th>\n",
       "      <th>explicit</th>\n",
       "      <th>id</th>\n",
       "      <th>instrumentalness</th>\n",
       "      <th>key</th>\n",
       "      <th>...</th>\n",
       "      <th>release_date</th>\n",
       "      <th>speechiness</th>\n",
       "      <th>tempo</th>\n",
       "      <th>valence</th>\n",
       "      <th>year</th>\n",
       "      <th>year_bins</th>\n",
       "      <th>popularity_cut</th>\n",
       "      <th>popularity_cut_labels</th>\n",
       "      <th>popularity_qcut</th>\n",
       "      <th>popularity_qcut_labels</th>\n",
       "    </tr>\n",
       "  </thead>\n",
       "  <tbody>\n",
       "    <tr>\n",
       "      <th>0</th>\n",
       "      <td>0</td>\n",
       "      <td>1.332319</td>\n",
       "      <td>['Carl Woitschach']</td>\n",
       "      <td>0.968662</td>\n",
       "      <td>158648</td>\n",
       "      <td>-1.097999</td>\n",
       "      <td>0</td>\n",
       "      <td>6KbQ3uYMLKb5jDxLF7wYDD</td>\n",
       "      <td>1.296562</td>\n",
       "      <td>10</td>\n",
       "      <td>...</td>\n",
       "      <td>1928</td>\n",
       "      <td>-0.289840</td>\n",
       "      <td>0.049500</td>\n",
       "      <td>0.940924</td>\n",
       "      <td>1928</td>\n",
       "      <td>0</td>\n",
       "      <td>0</td>\n",
       "      <td>(-0.1, 25.0]</td>\n",
       "      <td>0</td>\n",
       "      <td>(-0.1, 25.0]</td>\n",
       "    </tr>\n",
       "    <tr>\n",
       "      <th>1</th>\n",
       "      <td>1</td>\n",
       "      <td>1.329664</td>\n",
       "      <td>['Robert Schumann', 'Vladimir Horowitz']</td>\n",
       "      <td>-0.907636</td>\n",
       "      <td>282133</td>\n",
       "      <td>-1.776785</td>\n",
       "      <td>0</td>\n",
       "      <td>6KuQTIu1KoTTkLXKrwlLPV</td>\n",
       "      <td>2.389253</td>\n",
       "      <td>8</td>\n",
       "      <td>...</td>\n",
       "      <td>1928</td>\n",
       "      <td>-0.319186</td>\n",
       "      <td>-1.073199</td>\n",
       "      <td>-1.735454</td>\n",
       "      <td>1928</td>\n",
       "      <td>0</td>\n",
       "      <td>0</td>\n",
       "      <td>(-0.1, 25.0]</td>\n",
       "      <td>0</td>\n",
       "      <td>(-0.1, 25.0]</td>\n",
       "    </tr>\n",
       "    <tr>\n",
       "      <th>2</th>\n",
       "      <td>2</td>\n",
       "      <td>0.294154</td>\n",
       "      <td>['Seweryn Goszczyński']</td>\n",
       "      <td>1.202486</td>\n",
       "      <td>104300</td>\n",
       "      <td>-1.004503</td>\n",
       "      <td>0</td>\n",
       "      <td>6L63VW0PibdM1HDSBoqnoM</td>\n",
       "      <td>-0.523513</td>\n",
       "      <td>5</td>\n",
       "      <td>...</td>\n",
       "      <td>1928</td>\n",
       "      <td>5.568626</td>\n",
       "      <td>-0.317996</td>\n",
       "      <td>1.325822</td>\n",
       "      <td>1928</td>\n",
       "      <td>0</td>\n",
       "      <td>0</td>\n",
       "      <td>(-0.1, 25.0]</td>\n",
       "      <td>0</td>\n",
       "      <td>(-0.1, 25.0]</td>\n",
       "    </tr>\n",
       "    <tr>\n",
       "      <th>3</th>\n",
       "      <td>3</td>\n",
       "      <td>1.332319</td>\n",
       "      <td>['Francisco Canaro']</td>\n",
       "      <td>1.384983</td>\n",
       "      <td>180760</td>\n",
       "      <td>-1.341091</td>\n",
       "      <td>0</td>\n",
       "      <td>6M94FkXd15sOAOQYRnWPN8</td>\n",
       "      <td>2.343994</td>\n",
       "      <td>1</td>\n",
       "      <td>...</td>\n",
       "      <td>1928-09-25</td>\n",
       "      <td>-0.009722</td>\n",
       "      <td>-0.291114</td>\n",
       "      <td>0.716082</td>\n",
       "      <td>1928</td>\n",
       "      <td>0</td>\n",
       "      <td>0</td>\n",
       "      <td>(-0.1, 25.0]</td>\n",
       "      <td>0</td>\n",
       "      <td>(-0.1, 25.0]</td>\n",
       "    </tr>\n",
       "    <tr>\n",
       "      <th>4</th>\n",
       "      <td>4</td>\n",
       "      <td>1.319044</td>\n",
       "      <td>['Frédéric Chopin', 'Vladimir Horowitz']</td>\n",
       "      <td>-1.871449</td>\n",
       "      <td>687733</td>\n",
       "      <td>-1.064341</td>\n",
       "      <td>0</td>\n",
       "      <td>6N6tiFZ9vLTSOIxkj8qKrd</td>\n",
       "      <td>2.411883</td>\n",
       "      <td>11</td>\n",
       "      <td>...</td>\n",
       "      <td>1928</td>\n",
       "      <td>-0.344530</td>\n",
       "      <td>-1.783425</td>\n",
       "      <td>-1.763655</td>\n",
       "      <td>1928</td>\n",
       "      <td>0</td>\n",
       "      <td>0</td>\n",
       "      <td>(-0.1, 25.0]</td>\n",
       "      <td>0</td>\n",
       "      <td>(-0.1, 25.0]</td>\n",
       "    </tr>\n",
       "  </tbody>\n",
       "</table>\n",
       "<p>5 rows × 25 columns</p>\n",
       "</div>"
      ],
      "text/plain": [
       "   Unnamed: 0  acousticness                                   artists  \\\n",
       "0           0      1.332319                       ['Carl Woitschach']   \n",
       "1           1      1.329664  ['Robert Schumann', 'Vladimir Horowitz']   \n",
       "2           2      0.294154                   ['Seweryn Goszczyński']   \n",
       "3           3      1.332319                      ['Francisco Canaro']   \n",
       "4           4      1.319044  ['Frédéric Chopin', 'Vladimir Horowitz']   \n",
       "\n",
       "   danceability  duration_ms    energy  explicit                      id  \\\n",
       "0      0.968662       158648 -1.097999         0  6KbQ3uYMLKb5jDxLF7wYDD   \n",
       "1     -0.907636       282133 -1.776785         0  6KuQTIu1KoTTkLXKrwlLPV   \n",
       "2      1.202486       104300 -1.004503         0  6L63VW0PibdM1HDSBoqnoM   \n",
       "3      1.384983       180760 -1.341091         0  6M94FkXd15sOAOQYRnWPN8   \n",
       "4     -1.871449       687733 -1.064341         0  6N6tiFZ9vLTSOIxkj8qKrd   \n",
       "\n",
       "   instrumentalness  key  ...  release_date  speechiness     tempo   valence  \\\n",
       "0          1.296562   10  ...          1928    -0.289840  0.049500  0.940924   \n",
       "1          2.389253    8  ...          1928    -0.319186 -1.073199 -1.735454   \n",
       "2         -0.523513    5  ...          1928     5.568626 -0.317996  1.325822   \n",
       "3          2.343994    1  ...    1928-09-25    -0.009722 -0.291114  0.716082   \n",
       "4          2.411883   11  ...          1928    -0.344530 -1.783425 -1.763655   \n",
       "\n",
       "   year year_bins  popularity_cut  popularity_cut_labels  popularity_qcut  \\\n",
       "0  1928         0               0           (-0.1, 25.0]                0   \n",
       "1  1928         0               0           (-0.1, 25.0]                0   \n",
       "2  1928         0               0           (-0.1, 25.0]                0   \n",
       "3  1928         0               0           (-0.1, 25.0]                0   \n",
       "4  1928         0               0           (-0.1, 25.0]                0   \n",
       "\n",
       "   popularity_qcut_labels  \n",
       "0            (-0.1, 25.0]  \n",
       "1            (-0.1, 25.0]  \n",
       "2            (-0.1, 25.0]  \n",
       "3            (-0.1, 25.0]  \n",
       "4            (-0.1, 25.0]  \n",
       "\n",
       "[5 rows x 25 columns]"
      ]
     },
     "execution_count": 40,
     "metadata": {},
     "output_type": "execute_result"
    }
   ],
   "source": [
    "df.head()"
   ]
  },
  {
   "cell_type": "code",
   "execution_count": 67,
   "metadata": {},
   "outputs": [
    {
     "data": {
      "text/plain": [
       "<matplotlib.collections.PathCollection at 0x7f885dc7b460>"
      ]
     },
     "execution_count": 67,
     "metadata": {},
     "output_type": "execute_result"
    },
    {
     "data": {
      "image/png": "[encoded data removed]",
      "text/plain": [
       "<Figure size 432x288 with 1 Axes>"
      ]
     },
     "metadata": {
      "needs_background": "light"
     },
     "output_type": "display_data"
    }
   ],
   "source": [
    "features = ['acousticness', 'danceability', 'energy', 'instrumentalness',\n",
    "        'liveness', 'loudness','speechiness','tempo','valence']\n",
    "df_kmeans = df[features]\n",
    "\n",
    "pca = PCA(n_components = 2)\n",
    "X = pca.fit_transform(df_kmeans)\n",
    "\n",
    "X_new = pca.inverse_transform(X)\n",
    "\n",
    "plt.scatter(X_new[:, 0], X_new[:,1])"
   ]
  },
  {
   "cell_type": "code",
   "execution_count": 70,
   "metadata": {},
   "outputs": [
    {
     "data": {
      "image/png": "[encoded data removed]",
      "text/plain": [
       "<Figure size 432x288 with 1 Axes>"
      ]
     },
     "metadata": {
      "needs_background": "light"
     },
     "output_type": "display_data"
    }
   ],
   "source": []
  },
  {
   "cell_type": "code",
   "execution_count": null,
   "metadata": {},
   "outputs": [],
   "source": [
    "features = ['acousticness', 'danceability', 'energy', 'instrumentalness',\n",
    "        'liveness', 'loudness','speechiness','tempo','valence']\n",
    "df_kmeans = df[features]\n",
    "kmeans = KMeans(n_clusters=5).fit(df_kmeans)\n",
    "# centroids = kmeans.cluster_centers_\n",
    "# print(centroids)\n",
    "\n",
    "pca = PCA(n_components = 3)\n",
    "X = pca.fit_transform(df_kmeans)\n",
    "print(X.shape)\n",
    "\n",
    "X_new = pca.inverse_transform(X)\n",
    "\n",
    "X_new = pd.DataFrame(X_new)\n",
    "\n",
    "X_new['year_bins'] = df['year_bins']\n",
    "\n",
    "fig = plt.figure()\n",
    "ax = fig.add_subplot(111, projection='3d')\n",
    "\n",
    "for index,row in X_new.iterrows():\n",
    "    if row[\"year_bins\"] == 0:\n",
    "        ax.scatter(row[0], row[1],row[2], color='red')\n",
    "    if row[\"year_bins\"] == 1:\n",
    "        ax.scatter(row[0], row[1],row[2], color='blue')\n",
    "    if row[\"year_bins\"] == 2:\n",
    "        ax.scatter(row[0], row[1],row[2], color='orange')\n",
    "    if row[\"year_bins\"] == 3:\n",
    "        ax.scatter(row[0], row[1],row[2], color='black')\n",
    "    if row[\"year_bins\"] == 4:\n",
    "        ax.scatter(row[0], row[1],row[2], color='yellow')\n",
    "ax.show()\n",
    "\n",
    "# ax.scatter(X_new[:, 0], X_new[:,1], X_new[:,2])\n",
    "\n",
    "# plt.scatter(X_new[:, 0], X_new[:,1])\n",
    "\n",
    "# fig, ax = plt.subplots()\n",
    "# fig.scatter(X[:,0], X[:,1])\n",
    "\n",
    "\n",
    "\n",
    "\n",
    "df_kmeans['labels'] = kmeans.labels_\n",
    "df_kmeans['year_bins'] = df['year_bins']\n",
    "# df_kmeans.head()"
   ]
  },
  {
   "cell_type": "code",
   "execution_count": 64,
   "metadata": {},
   "outputs": [
    {
     "name": "stdout",
     "output_type": "stream",
     "text": [
      "333\n",
      "1060\n",
      "8974\n",
      "12970\n",
      "16096\n"
     ]
    }
   ],
   "source": [
    "df_year = df_kmeans[df_kmeans['labels']==0]\n",
    "\n",
    "print(len(df_year[df_year['year_bins'] == 0]))\n",
    "print(len(df_year[df_year['year_bins'] == 1]))\n",
    "print(len(df_year[df_year['year_bins'] == 2]))\n",
    "print(len(df_year[df_year['year_bins'] == 3]))\n",
    "print(len(df_year[df_year['year_bins'] == 4]))"
   ]
  },
  {
   "cell_type": "code",
   "execution_count": 44,
   "metadata": {},
   "outputs": [
    {
     "name": "stdout",
     "output_type": "stream",
     "text": [
      "5926\n",
      "16605\n",
      "13233\n",
      "6883\n",
      "4587\n"
     ]
    }
   ],
   "source": [
    "df_year = df_kmeans[df_kmeans['labels']==1]\n",
    "print(len(df_year[df_year['year_bins'] == 0]))\n",
    "print(len(df_year[df_year['year_bins'] == 1]))\n",
    "print(len(df_year[df_year['year_bins'] == 2]))\n",
    "print(len(df_year[df_year['year_bins'] == 3]))\n",
    "print(len(df_year[df_year['year_bins'] == 4]))"
   ]
  },
  {
   "cell_type": "code",
   "execution_count": 45,
   "metadata": {},
   "outputs": [
    {
     "name": "stdout",
     "output_type": "stream",
     "text": [
      "1962\n",
      "4699\n",
      "13977\n",
      "17657\n",
      "17050\n"
     ]
    }
   ],
   "source": [
    "df_year = df_kmeans[df_kmeans['labels']==2]\n",
    "print(len(df_year[df_year['year_bins'] == 0]))\n",
    "print(len(df_year[df_year['year_bins'] == 1]))\n",
    "print(len(df_year[df_year['year_bins'] == 2]))\n",
    "print(len(df_year[df_year['year_bins'] == 3]))\n",
    "print(len(df_year[df_year['year_bins'] == 4]))"
   ]
  },
  {
   "cell_type": "code",
   "execution_count": 46,
   "metadata": {},
   "outputs": [
    {
     "name": "stdout",
     "output_type": "stream",
     "text": [
      "4948\n",
      "10597\n",
      "3603\n",
      "2408\n",
      "1889\n"
     ]
    }
   ],
   "source": [
    "df_year = df_kmeans[df_kmeans['labels']==3]\n",
    "print(len(df_year[df_year['year_bins'] == 0]))\n",
    "print(len(df_year[df_year['year_bins'] == 1]))\n",
    "print(len(df_year[df_year['year_bins'] == 2]))\n",
    "print(len(df_year[df_year['year_bins'] == 3]))\n",
    "print(len(df_year[df_year['year_bins'] == 4]))"
   ]
  },
  {
   "cell_type": "code",
   "execution_count": 47,
   "metadata": {},
   "outputs": [
    {
     "name": "stdout",
     "output_type": "stream",
     "text": [
      "2161\n",
      "1954\n",
      "289\n",
      "225\n",
      "204\n"
     ]
    }
   ],
   "source": [
    "df_year = df_kmeans[df_kmeans['labels']==4]\n",
    "print(len(df_year[df_year['year_bins'] == 0]))\n",
    "print(len(df_year[df_year['year_bins'] == 1]))\n",
    "print(len(df_year[df_year['year_bins'] == 2]))\n",
    "print(len(df_year[df_year['year_bins'] == 3]))\n",
    "print(len(df_year[df_year['year_bins'] == 4]))"
   ]
  },
  {
   "cell_type": "code",
   "execution_count": null,
   "metadata": {},
   "outputs": [],
   "source": []
  }
 ],
 "metadata": {
  "kernelspec": {
   "display_name": "Python 3",
   "language": "python",
   "name": "python3"
  },
  "language_info": {
   "codemirror_mode": {
    "name": "ipython",
    "version": 3
   },
   "file_extension": ".py",
   "mimetype": "text/x-python",
   "name": "python",
   "nbconvert_exporter": "python",
   "pygments_lexer": "ipython3",
   "version": "3.8.3"
  }
 },
 "nbformat": 4,
 "nbformat_minor": 4
}
